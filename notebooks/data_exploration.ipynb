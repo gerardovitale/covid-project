{
 "cells": [
  {
   "cell_type": "code",
   "execution_count": 1,
   "id": "a0bb35f3",
   "metadata": {},
   "outputs": [],
   "source": [
    "import findspark\n",
    "findspark.init('/usr/local/spark')\n",
    "from pyspark.sql import SparkSession"
   ]
  },
  {
   "cell_type": "code",
   "execution_count": 2,
   "id": "eea6625c",
   "metadata": {},
   "outputs": [],
   "source": [
    "import pycountry\n",
    "from resources.update_local_data import get_covid_data"
   ]
  },
  {
   "cell_type": "code",
   "execution_count": 3,
   "id": "d62d2241",
   "metadata": {},
   "outputs": [],
   "source": [
    "spark = SparkSession.builder.appName(\"covid_deaths\").getOrCreate()"
   ]
  },
  {
   "cell_type": "markdown",
   "id": "f38d75f8",
   "metadata": {},
   "source": [
    "Update local data"
   ]
  },
  {
   "cell_type": "code",
   "execution_count": 4,
   "id": "4dcf35dd",
   "metadata": {},
   "outputs": [
    {
     "name": "stdout",
     "output_type": "stream",
     "text": [
      "[INFO] url read -> https://covid.ourworldindata.org/data/owid-covid-data.csv\n",
      "[INFO] data/covid_deaths.csv saved\n",
      "[INFO] data/covid_vaccinations.csv saved\n"
     ]
    }
   ],
   "source": [
    "get_covid_data()"
   ]
  },
  {
   "cell_type": "markdown",
   "id": "960baa6f",
   "metadata": {},
   "source": [
    "# Covid-19 Dataset from Our World in Data\n",
    "- main dataset source: https://ourworldindata.org/covid-deaths\n",
    "- complement dataset, population density per country: https://worldpopulationreview.com/country-rankings/countries-by-density\n",
    "\n",
    "## Overview:\n",
    "The present notebooks tends to explore and analyze covid deaths dataset from Our World in Data. It going to take special attention to three countries, Soain, Italy and USA, while looking for some global numbers and doing a general analysis.\n",
    "\n",
    "It can be noted that PySpark is going to be used for this analysis, actually it's going to be taken advantage of SQL syntax thank to `spark.sql()` for complex queries.\n",
    "\n",
    "## Steps:\n",
    "1. Load dataset, and check its schema, structure and scope,\n",
    "2. Look at the most infected countries, where are they located (which continent),\n",
    "3. Look at the countries with more deaths, where are they located (which continent),\n",
    "4. Compare the previous results with Spain, Italy and USA,"
   ]
  },
  {
   "cell_type": "markdown",
   "id": "28a8cc7a",
   "metadata": {},
   "source": [
    "### 1. Load dataset, and check its schema, structure and scope\n",
    "- covid_deaths.csv\n",
    "- world_population_density.csv"
   ]
  },
  {
   "cell_type": "code",
   "execution_count": 5,
   "id": "434fdb54",
   "metadata": {},
   "outputs": [],
   "source": [
    "df_deaths = spark.read.csv('../data/covid_deaths.csv', inferSchema=True, header=True)\n",
    "df_pop_density = spark.read.csv('../data/world_population_density.csv', inferSchema=True, header=True)"
   ]
  },
  {
   "cell_type": "markdown",
   "id": "6000d91a",
   "metadata": {},
   "source": [
    "#### covid_deaths.csv"
   ]
  },
  {
   "cell_type": "code",
   "execution_count": 6,
   "id": "28b7ae61",
   "metadata": {},
   "outputs": [
    {
     "name": "stdout",
     "output_type": "stream",
     "text": [
      "root\n",
      " |-- _c0: integer (nullable = true)\n",
      " |-- iso_code: string (nullable = true)\n",
      " |-- continent: string (nullable = true)\n",
      " |-- location: string (nullable = true)\n",
      " |-- date: string (nullable = true)\n",
      " |-- total_cases: double (nullable = true)\n",
      " |-- new_cases: double (nullable = true)\n",
      " |-- new_cases_smoothed: double (nullable = true)\n",
      " |-- total_deaths: double (nullable = true)\n",
      " |-- new_deaths: double (nullable = true)\n",
      " |-- new_deaths_smoothed: double (nullable = true)\n",
      " |-- total_cases_per_million: double (nullable = true)\n",
      " |-- new_cases_per_million: double (nullable = true)\n",
      " |-- new_cases_smoothed_per_million: double (nullable = true)\n",
      " |-- total_deaths_per_million: double (nullable = true)\n",
      " |-- new_deaths_per_million: double (nullable = true)\n",
      " |-- new_deaths_smoothed_per_million: double (nullable = true)\n",
      " |-- reproduction_rate: double (nullable = true)\n",
      " |-- icu_patients: double (nullable = true)\n",
      " |-- icu_patients_per_million: double (nullable = true)\n",
      " |-- hosp_patients: double (nullable = true)\n",
      " |-- hosp_patients_per_million: double (nullable = true)\n",
      " |-- weekly_icu_admissions: double (nullable = true)\n",
      " |-- weekly_icu_admissions_per_million: double (nullable = true)\n",
      " |-- weekly_hosp_admissions: double (nullable = true)\n",
      " |-- weekly_hosp_admissions_per_million: double (nullable = true)\n",
      " |-- population: double (nullable = true)\n",
      "\n"
     ]
    }
   ],
   "source": [
    "df_deaths.createOrReplaceTempView(\"covid_deaths\")\n",
    "df_deaths.printSchema()"
   ]
  },
  {
   "cell_type": "markdown",
   "id": "c1a00f0f",
   "metadata": {},
   "source": [
    "Continents that appear in the dataset"
   ]
  },
  {
   "cell_type": "code",
   "execution_count": 7,
   "id": "f4228281",
   "metadata": {},
   "outputs": [
    {
     "name": "stdout",
     "output_type": "stream",
     "text": [
      "+-------------+\n",
      "|    continent|\n",
      "+-------------+\n",
      "|       Europe|\n",
      "|       Africa|\n",
      "|         null|\n",
      "|North America|\n",
      "|South America|\n",
      "|      Oceania|\n",
      "|         Asia|\n",
      "+-------------+\n",
      "\n"
     ]
    }
   ],
   "source": [
    "spark.sql(\"\"\"\n",
    "    SELECT DISTINCT continent\n",
    "    FROM covid_deaths\n",
    "\"\"\").show()"
   ]
  },
  {
   "cell_type": "markdown",
   "id": "0e4fd8f6",
   "metadata": {},
   "source": [
    "There are 231 countries from 6 different continents"
   ]
  },
  {
   "cell_type": "code",
   "execution_count": 8,
   "id": "bae8254f",
   "metadata": {},
   "outputs": [
    {
     "data": {
      "text/plain": [
       "230"
      ]
     },
     "execution_count": 8,
     "metadata": {},
     "output_type": "execute_result"
    }
   ],
   "source": [
    "spark.sql(\"\"\"\n",
    "    SELECT DISTINCT location\n",
    "    FROM covid_deaths\n",
    "\"\"\").count()"
   ]
  },
  {
   "cell_type": "markdown",
   "id": "4339bcb5",
   "metadata": {},
   "source": [
    "This is the range of the dataset. The records start on january 2020 and should end today since it's udtated everytime the function `update_local_data` run at the beginning of this notebook"
   ]
  },
  {
   "cell_type": "code",
   "execution_count": 9,
   "id": "38ffdb7e",
   "metadata": {},
   "outputs": [
    {
     "name": "stdout",
     "output_type": "stream",
     "text": [
      "+----------+----------+\n",
      "|     Start|       End|\n",
      "+----------+----------+\n",
      "|2020-01-01|2021-06-29|\n",
      "+----------+----------+\n",
      "\n"
     ]
    }
   ],
   "source": [
    "spark.sql(\"\"\"\n",
    "    SELECT min(date(date)) as Start, max(date(date)) as End\n",
    "    FROM covid_deaths\n",
    "\"\"\").show()"
   ]
  },
  {
   "cell_type": "markdown",
   "id": "1778a7d2",
   "metadata": {},
   "source": [
    "#### world_population_density.csv"
   ]
  },
  {
   "cell_type": "code",
   "execution_count": 10,
   "id": "5f88a098",
   "metadata": {},
   "outputs": [
    {
     "name": "stdout",
     "output_type": "stream",
     "text": [
      "root\n",
      " |-- rank: integer (nullable = true)\n",
      " |-- country: string (nullable = true)\n",
      " |-- density: double (nullable = true)\n",
      " |-- densityMi: double (nullable = true)\n",
      " |-- pop2021: double (nullable = true)\n",
      " |-- area: integer (nullable = true)\n",
      "\n"
     ]
    }
   ],
   "source": [
    "df_pop_density.createOrReplaceTempView(\"world_population_density\")\n",
    "df_pop_density.printSchema()"
   ]
  },
  {
   "cell_type": "markdown",
   "id": "e1b97b8d",
   "metadata": {},
   "source": [
    "world_population_density.csv has 232 countries contemplated, one more than covid_deaths.csv"
   ]
  },
  {
   "cell_type": "code",
   "execution_count": 11,
   "id": "a78975c7",
   "metadata": {},
   "outputs": [
    {
     "data": {
      "text/plain": [
       "232"
      ]
     },
     "execution_count": 11,
     "metadata": {},
     "output_type": "execute_result"
    }
   ],
   "source": [
    "df_pop_density.select('country').count()"
   ]
  },
  {
   "cell_type": "markdown",
   "id": "db2f065d",
   "metadata": {},
   "source": [
    "Now, let's compare these two tables or datasets:\n",
    "- `covid_deaths.csv`\n",
    "- `world_population_density.csv`\n",
    "\n",
    "The idea is to enhance covid_deaths dataset by adding the population density per country. So let's compare which countries in `covid_deaths.csv` appear in `world_population_density.csv`.\n",
    "\n",
    "For better result, it can be taken advantage of the iso_code standard, so that the language or any local convention can't affect when two countries name are compared (e.g. Czechia and Czech Republic refer to the same country).\n",
    "\n",
    "In the case of `covid_deaths` table, it already have the iso_code as the second column, but the `world_population_density` just have the country name. Therefore, for this second case, it's going to be used `pycountry` (a pyhotn package available here: https://pypi.org/project/pycountry/) to decode the country name to effectively compare the two datasets.\n",
    "\n",
    "More specifically, it's going to be used map transformation of `PySpark` that recieve a function as parameters to later applied it to each row in a dataframe. \n",
    "\n",
    "The following is a encoding function (`encode_country`) that recieve a row as parameter, take the two most important component (country and population density, the rest of elements are not going to be used), and return the iso_code of that country and the density as a row. Noted that has a try/except block to ensure that if a country can't be read by `pycountry` don't break, and instead return just `None`.\n",
    "\n",
    "After checked what countries were not encode because `pycountry.country.search_fuzzy` didn't recognize them, it was tried to manually do it. To do that, it was created a map or python Dict to asign these countries with their respective iso code, and then update the `encode_country` function."
   ]
  },
  {
   "cell_type": "code",
   "execution_count": 12,
   "id": "d307f77e",
   "metadata": {},
   "outputs": [],
   "source": [
    "ISO_MAP = {\n",
    "    'Macau': 'MAC',\n",
    "    'South Korea': 'KOR',\n",
    "    'United States Virgin Islands': 'VIR',\n",
    "    'North Korea': 'PRK',\n",
    "    'Cape Verde': 'CPV',\n",
    "    'Ivory Coast': 'CIV',\n",
    "    'DR Congo': 'COD',\n",
    "    'Laos': 'LAO',\n",
    "    'Sint Maarten': 'SXM',\n",
    "    'Curacao': 'CUW'\n",
    "}\n",
    "\n",
    "\n",
    "# overwrited function \n",
    "def encode_country(row):\n",
    "    country, iso_code, density = (row[1], ISO_MAP[row[1]], row[2]) \\\n",
    "                                    if row[1] in ISO_MAP.keys() \\\n",
    "                                    else (row[1], None, row[2])\n",
    "    try:\n",
    "        iso_code = pycountry.countries.search_fuzzy(country)[0].alpha_3 \\\n",
    "                    if iso_code is None else None\n",
    "    except LookupError: \n",
    "        pass\n",
    "    return (country, iso_code, density)"
   ]
  },
  {
   "cell_type": "code",
   "execution_count": 13,
   "id": "e0c2113c",
   "metadata": {},
   "outputs": [],
   "source": [
    "rdd = df_pop_density.rdd.map(encode_country)\n",
    "df_pop_density = rdd.toDF(['country', 'iso_code', 'density'])\n",
    "\n",
    "# Create a new tempView for the new table with encode countries\n",
    "df_pop_density.createOrReplaceTempView(\"population_density_encoded\")"
   ]
  },
  {
   "cell_type": "markdown",
   "id": "2703f779",
   "metadata": {},
   "source": [
    "Now, the two tables can be easily compared with each other by looking at their iso_codes. Noted that there are 10 iso_code in `covid_deaths` that are not in `population_density_encode`, and that the `WHERE continent IS NOT NULL` clause is added in the SQL query beacuse when it's not passed, continents as a whole are considered as country in the dataset."
   ]
  },
  {
   "cell_type": "code",
   "execution_count": 14,
   "id": "18b079f8",
   "metadata": {},
   "outputs": [
    {
     "data": {
      "text/plain": [
       "16"
      ]
     },
     "execution_count": 14,
     "metadata": {},
     "output_type": "execute_result"
    }
   ],
   "source": [
    "spark.sql(\"\"\"\n",
    "    SELECT iso_code \n",
    "    FROM covid_deaths\n",
    "    WHERE continent IS NOT NULL\n",
    "    EXCEPT\n",
    "    SELECT iso_code FROM population_density_encoded\n",
    "\"\"\").count()"
   ]
  },
  {
   "cell_type": "markdown",
   "id": "5384bf83",
   "metadata": {},
   "source": [
    "Here are the countries and the iso_code from `covid_deaths` that didn't find a iso_code in the `population_density_encoded` table (the new one). There are 10 countries as it was commented before. Therefore, it can be affirmed that for these 10 countries are not population density information available in the dataset consulted."
   ]
  },
  {
   "cell_type": "code",
   "execution_count": 15,
   "id": "f9068fea",
   "metadata": {},
   "outputs": [
    {
     "name": "stdout",
     "output_type": "stream",
     "text": [
      "+--------------------+--------+\n",
      "|            location|iso_code|\n",
      "+--------------------+--------+\n",
      "|               Macao|     MAC|\n",
      "|     Northern Cyprus|OWID_CYN|\n",
      "|             Curacao|     CUW|\n",
      "|Democratic Republ...|     COD|\n",
      "|               Niger|     NER|\n",
      "|         South Korea|     KOR|\n",
      "|       Cote d'Ivoire|     CIV|\n",
      "|            Pitcairn|     PCN|\n",
      "|Sint Maarten (Dut...|     SXM|\n",
      "|              Jersey|     JEY|\n",
      "|          Cape Verde|     CPV|\n",
      "|Bonaire Sint Eust...|     BES|\n",
      "|        Saint Helena|     SHN|\n",
      "|              Kosovo|OWID_KOS|\n",
      "|                Laos|     LAO|\n",
      "|            Guernsey|     GGY|\n",
      "+--------------------+--------+\n",
      "\n"
     ]
    }
   ],
   "source": [
    "spark.sql(\"\"\"\n",
    "    SELECT DISTINCT location, iso_code\n",
    "    FROM covid_deaths\n",
    "    WHERE iso_code IN (\n",
    "        SELECT iso_code FROM covid_deaths\n",
    "        EXCEPT\n",
    "        SELECT iso_code FROM population_density_encoded) AND\n",
    "        continent IS NOT NULL \n",
    "\"\"\").show()"
   ]
  },
  {
   "cell_type": "markdown",
   "id": "92c6a0d6",
   "metadata": {},
   "source": [
    "### 2. Look at the most infected countries, where are they located (which continent)"
   ]
  },
  {
   "cell_type": "markdown",
   "id": "0fb99cc2",
   "metadata": {},
   "source": [
    "The following are the top 20 countries that have the higher rate of infected people; \n",
    "noted that neither Spain nor Italy, two of the most affected european countries at the beginning of the pandemic, appear."
   ]
  },
  {
   "cell_type": "code",
   "execution_count": 16,
   "id": "470e4e77",
   "metadata": {},
   "outputs": [
    {
     "name": "stdout",
     "output_type": "stream",
     "text": [
      "+--------+-------------+-------------+------------+-----------+-------------------------+\n",
      "|iso_code|     location|    continent|  population| TotalCases|PercentPopulationInfected|\n",
      "+--------+-------------+-------------+------------+-----------+-------------------------+\n",
      "|     AND|      Andorra|       Europe|     77265.0|    13900.0|       17.990034297547403|\n",
      "|     MNE|   Montenegro|       Europe|    628062.0|   100230.0|       15.958615550694038|\n",
      "|     SYC|   Seychelles|       Africa|     98340.0|    15579.0|        15.84197681513118|\n",
      "|     BHR|      Bahrain|         Asia|   1701583.0|   265643.0|       15.611521741813359|\n",
      "|     CZE|      Czechia|       Europe| 1.0708982E7|  1667115.0|       15.567446093382173|\n",
      "|     SMR|   San Marino|       Europe|     33938.0|     5091.0|        15.00088396487713|\n",
      "|     MDV|     Maldives|         Asia|    540542.0|    73660.0|       13.627063206929341|\n",
      "|     SVN|     Slovenia|       Europe|   2078932.0|   257287.0|       12.375921867574311|\n",
      "|     LUX|   Luxembourg|       Europe|    625976.0|    70695.0|       11.293563970503662|\n",
      "|     SWE|       Sweden|       Europe|  1.009927E7|  1089743.0|       10.790314547487096|\n",
      "|     URY|      Uruguay|South America|   3473727.0|   368178.0|       10.598933076778918|\n",
      "|     SRB|       Serbia|       Europe|   6804596.0|   716458.0|       10.529030672798209|\n",
      "|     LTU|    Lithuania|       Europe|   2722291.0|   278726.0|       10.238655602946196|\n",
      "|     USA|United States|North America|3.31002647E8|3.3652098E7|        10.16671567584171|\n",
      "|     NLD|  Netherlands|       Europe| 1.7134873E7|  1712100.0|        9.991903645857194|\n",
      "|     EST|      Estonia|       Europe|   1326539.0|   131028.0|        9.877432928847172|\n",
      "|     ARG|    Argentina|South America| 4.5195777E7|  4447701.0|         9.84096589378251|\n",
      "|     ISR|       Israel|         Asia|   8655541.0|   841486.0|        9.721934192212826|\n",
      "|     BEL|      Belgium|       Europe| 1.1589616E7|  1084550.0|        9.357945940573009|\n",
      "|     PAN|       Panama|North America|   4314768.0|   402581.0|        9.330304665279803|\n",
      "+--------+-------------+-------------+------------+-----------+-------------------------+\n",
      "\n"
     ]
    }
   ],
   "source": [
    "df_top_infected = spark.sql(\"\"\"\n",
    "    SELECT iso_code, location, continent, population,\n",
    "        MAX(total_cases) as TotalCases, \n",
    "        (MAX(total_cases)/MAX(population))*100 as PercentPopulationInfected\n",
    "    FROM covid_deaths\n",
    "    GROUP BY iso_code, location, population, continent\n",
    "    ORDER BY PercentPopulationInfected desc\n",
    "    LIMIT 20\n",
    "\"\"\")\n",
    "df_top_infected.createOrReplaceTempView(\"top_infected_countries\")\n",
    "df_top_infected.show()"
   ]
  },
  {
   "cell_type": "markdown",
   "id": "81fe02db",
   "metadata": {},
   "source": [
    "The following table shows how many countries are per continent, in order to detect the most affected ones."
   ]
  },
  {
   "cell_type": "code",
   "execution_count": 20,
   "id": "b5a12bdb",
   "metadata": {},
   "outputs": [
    {
     "name": "stdout",
     "output_type": "stream",
     "text": [
      "+--------+-------------+-------------------------+---------+\n",
      "|iso_code|     location|PercentPopulationInfected|  density|\n",
      "+--------+-------------+-------------------------+---------+\n",
      "|     AND|      Andorra|       17.990034297547403| 165.2885|\n",
      "|     MNE|   Montenegro|       15.958615550694038|  45.4715|\n",
      "|     SYC|   Seychelles|        15.84197681513118|  218.823|\n",
      "|     BHR|      Bahrain|       15.611521741813359|2285.3542|\n",
      "|     CZE|      Czechia|       15.567446093382173| 135.9862|\n",
      "|     SMR|   San Marino|        15.00088396487713| 557.6557|\n",
      "|     MDV|     Maldives|       13.627063206929341|1812.0567|\n",
      "|     SVN|     Slovenia|       12.375921867574311| 102.5366|\n",
      "|     LUX|   Luxembourg|       11.293563970503662| 245.4811|\n",
      "|     SWE|       Sweden|       10.790314547487096|  22.5634|\n",
      "|     URY|      Uruguay|       10.598933076778918|  19.2514|\n",
      "|     SRB|       Serbia|       10.529030672798209|   98.432|\n",
      "|     LTU|    Lithuania|       10.238655602946196|  41.1924|\n",
      "|     USA|United States|        10.16671567584171|    35.52|\n",
      "|     NLD|  Netherlands|        9.991903645857194| 410.3488|\n",
      "|     EST|      Estonia|        9.877432928847172|  29.3007|\n",
      "|     ARG|    Argentina|         9.84096589378251|  16.4026|\n",
      "|     ISR|       Israel|        9.721934192212826| 423.1957|\n",
      "|     BEL|      Belgium|        9.357945940573009| 381.0379|\n",
      "|     PAN|       Panama|        9.330304665279803|   58.098|\n",
      "+--------+-------------+-------------------------+---------+\n",
      "\n"
     ]
    }
   ],
   "source": [
    "spark.sql(\"\"\"\n",
    "    SELECT tic.location, tic.PercentPopulationInfected, pde.density\n",
    "    FROM top_infected_countries as tic\n",
    "    INNER JOIN population_density_encoded as pde\n",
    "        ON tic.iso_code = pde.iso_code\n",
    "    ORDER BY 3 DESC\n",
    "\"\"\").show()"
   ]
  },
  {
   "cell_type": "code",
   "execution_count": 21,
   "id": "83715354",
   "metadata": {},
   "outputs": [
    {
     "name": "stdout",
     "output_type": "stream",
     "text": [
      "+-------------+----------------+----------+\n",
      "|    continent|count(continent)|Percentage|\n",
      "+-------------+----------------+----------+\n",
      "|       Europe|              12|      60.0|\n",
      "|         Asia|               3|      15.0|\n",
      "|South America|               2|      10.0|\n",
      "|North America|               2|      10.0|\n",
      "|       Africa|               1|       5.0|\n",
      "+-------------+----------------+----------+\n",
      "\n"
     ]
    }
   ],
   "source": [
    "spark.sql(\"\"\"\n",
    "    SELECT continent, COUNT(continent), COUNT(continent)/20*100 as Percentage\n",
    "    FROM top_infected_countries\n",
    "    GROUP BY continent\n",
    "    ORDER BY 2 desc\n",
    "\"\"\").show()"
   ]
  },
  {
   "cell_type": "markdown",
   "id": "63a31cfb",
   "metadata": {},
   "source": [
    "### 3. Look at the countries with more deaths, where are they located (which continent)"
   ]
  },
  {
   "cell_type": "markdown",
   "id": "cd596faa",
   "metadata": {},
   "source": [
    "Now, let's have a look on the top 20 countries with the higher death rate"
   ]
  },
  {
   "cell_type": "code",
   "execution_count": 22,
   "id": "1f370bbd",
   "metadata": {},
   "outputs": [
    {
     "name": "stdout",
     "output_type": "stream",
     "text": [
      "+--------------------+-------------+-------------+----------+-----------+------------------+\n",
      "|            location|    continent|   population|TotalCases|TotalDeaths|   PercentOfDeaths|\n",
      "+--------------------+-------------+-------------+----------+-----------+------------------+\n",
      "|             Vanuatu|      Oceania|     307150.0|       4.0|        1.0|              25.0|\n",
      "|               Yemen|         Asia|  2.9825968E7|    6918.0|     1361.0| 19.67331598727956|\n",
      "|                Peru|South America|  3.2971846E7| 2048115.0|   191899.0| 9.369542237618493|\n",
      "|              Mexico|North America| 1.28932753E8| 2513164.0|   232803.0| 9.263342941407723|\n",
      "|               Sudan|       Africa|  4.3849269E7|   36620.0|     2754.0| 7.520480611687602|\n",
      "|               Syria|         Asia|  1.7500657E7|   25479.0|     1873.0| 7.351151929039601|\n",
      "|               Egypt|       Africa| 1.02334403E8|  281031.0|    16148.0| 5.745985318345663|\n",
      "|             Somalia|       Africa|  1.5893219E7|   14933.0|      775.0| 5.189847987678296|\n",
      "|               China|         Asia|1.439323774E9|   91834.0|     4636.0|  5.04823921423438|\n",
      "|Bosnia and Herzeg...|       Europe|    3280815.0|  205004.0|     9663.0| 4.713566564554838|\n",
      "|             Ecuador|South America|   1.764306E7|  457489.0|    21545.0|4.7094028490302495|\n",
      "|              Taiwan|         Asia|  2.3816775E7|   14748.0|      643.0| 4.359913208570654|\n",
      "|            Bulgaria|       Europe|    6948445.0|  421751.0|    18049.0|4.2795393490471865|\n",
      "|            Tanzania|       Africa|  5.9734213E7|     509.0|       21.0|  4.12573673870334|\n",
      "|         Afghanistan|         Asia|  3.8928341E7|  117158.0|     4794.0| 4.091910070161662|\n",
      "|             Bolivia|South America|  1.1673029E7|  437623.0|    16702.0| 3.816527010691851|\n",
      "|             Comoros|       Africa|     869595.0|    3912.0|      146.0|3.7321063394683023|\n",
      "|             Hungary|       Europe|    9660350.0|  808076.0|    29991.0| 3.711408332879581|\n",
      "|                Mali|       Africa|  2.0250834E7|   14422.0|      525.0|3.6402718069615863|\n",
      "|            Zimbabwe|       Africa|  1.4862927E7|   48533.0|     1761.0| 3.628458986668864|\n",
      "+--------------------+-------------+-------------+----------+-----------+------------------+\n",
      "\n"
     ]
    }
   ],
   "source": [
    "df_top_deaths = spark.sql(\"\"\"\n",
    "    SELECT location, continent, population, \n",
    "        MAX(total_cases) as TotalCases,\n",
    "        MAX(total_deaths) as TotalDeaths,\n",
    "        (MAX(total_deaths)/MAX(total_cases))*100 as PercentOfDeaths\n",
    "    FROM covid_deaths\n",
    "    GROUP BY location, population, continent\n",
    "    ORDER BY PercentOfDeaths desc\n",
    "    LIMIT 20\n",
    "\"\"\")\n",
    "df_top_deaths.createOrReplaceTempView(\"top_deaths_countries\")\n",
    "df_top_deaths.show()"
   ]
  },
  {
   "cell_type": "code",
   "execution_count": 23,
   "id": "b0bc3654",
   "metadata": {},
   "outputs": [
    {
     "name": "stdout",
     "output_type": "stream",
     "text": [
      "+-------------+----------------+----------+\n",
      "|    continent|count(continent)|Percentage|\n",
      "+-------------+----------------+----------+\n",
      "|         Asia|               5|      25.0|\n",
      "|       Africa|               5|      25.0|\n",
      "|South America|               3|      15.0|\n",
      "|       Europe|               3|      15.0|\n",
      "|      Oceania|               1|       5.0|\n",
      "|North America|               1|       5.0|\n",
      "+-------------+----------------+----------+\n",
      "\n"
     ]
    }
   ],
   "source": [
    "spark.sql(\"\"\"\n",
    "    SELECT continent, COUNT(continent), COUNT(continent)/20*100 as Percentage\n",
    "    FROM top_deaths_countries\n",
    "    WHERE TotalDeaths/TotalCases*100 >= 3.6423\n",
    "    GROUP BY continent\n",
    "    ORDER BY 2 desc\n",
    "\"\"\").show()"
   ]
  },
  {
   "cell_type": "markdown",
   "id": "6f3d47df",
   "metadata": {},
   "source": [
    "### 4. Compare the previous results with Spain, Italy and USA,"
   ]
  },
  {
   "cell_type": "markdown",
   "id": "2e520291",
   "metadata": {},
   "source": [
    "Just to verify that Spain and Italy are contemplated in the dataset, let's query them. Additionally, it can be interesting to compare their infection and death rate with the US rates.\n",
    "\n",
    "- It can be noted that US have the higher infected rate (10.12%), but the lower death rate (1.79%).\n",
    "- In contrats, Italy have the lower infected rate (7.03%) and the higher death rate (2.99%).\n",
    "- Finally, Spain is in the middle of the two."
   ]
  },
  {
   "cell_type": "code",
   "execution_count": 24,
   "id": "9c8808c4",
   "metadata": {},
   "outputs": [
    {
     "name": "stdout",
     "output_type": "stream",
     "text": [
      "+-------------+------------+-----------+-----------+-------------------------+------------------+\n",
      "|     location|  Population| TotalCases|TotalDeaths|PercentPopulationInfected|   PercentOfDeaths|\n",
      "+-------------+------------+-----------+-----------+-------------------------+------------------+\n",
      "|United States|3.31002647E8|3.3652098E7|   604474.0|        10.16671567584171| 1.796244620469131|\n",
      "|        Italy| 6.0461828E7|  4259133.0|   127542.0|        7.044333823317415|2.9945531167963058|\n",
      "|        Spain| 4.6754783E7|  3799733.0|    80829.0|        8.126939654494814|2.1272284131542927|\n",
      "+-------------+------------+-----------+-----------+-------------------------+------------------+\n",
      "\n"
     ]
    }
   ],
   "source": [
    "spark.sql(\"\"\"\n",
    "    SELECT DISTINCT location, \n",
    "        MAX(population) as Population,\n",
    "        MAX(total_cases) as TotalCases, \n",
    "        MAX(total_deaths) as TotalDeaths,\n",
    "        (MAX(total_cases)/MAX(population))*100 as PercentPopulationInfected,\n",
    "        (MAX(total_deaths)/MAX(total_cases))*100 as PercentOfDeaths\n",
    "    FROM covid_deaths\n",
    "    WHERE location LIKE 'Spain' or \n",
    "        location LIKE 'Italy' or \n",
    "        location LIKE '%tates%'\n",
    "    GROUP BY location\n",
    "\"\"\").show()"
   ]
  },
  {
   "cell_type": "markdown",
   "id": "2034384b",
   "metadata": {},
   "source": [
    "Using spark.sql to query a spain dataframe"
   ]
  },
  {
   "cell_type": "code",
   "execution_count": 25,
   "id": "9cc192d1",
   "metadata": {},
   "outputs": [],
   "source": [
    "df_spain = spark.sql(\"\"\"\n",
    "    SELECT DATE(date),\n",
    "        population, total_cases, new_cases, total_deaths, \n",
    "        (total_deaths/total_cases*100) as death_rate,\n",
    "        (new_cases/population*100) as infected_rate\n",
    "    FROM covid_deaths\n",
    "    WHERE location = 'Spain' AND\n",
    "        total_deaths IS NOT NULL\n",
    "    ORDER by 1\n",
    "\"\"\")\n",
    "df_spain.createOrReplaceTempView(\"covid_deaths_spain\")"
   ]
  },
  {
   "cell_type": "markdown",
   "id": "1fbd70b1",
   "metadata": {},
   "source": [
    "This is how it looks like the spain dataframe, the first 20 days since is was reported the first death.\n",
    "\n",
    "The following are some notes realted:\n",
    "- The first covid death was on march (03-march-2020), there were 165 cases in total and 45 new cases.\n",
    "- It's easy to see how the number of new cases and death rate are increasing."
   ]
  },
  {
   "cell_type": "code",
   "execution_count": 26,
   "id": "ea0321c9",
   "metadata": {},
   "outputs": [
    {
     "name": "stdout",
     "output_type": "stream",
     "text": [
      "+----------+-----------+-----------+---------+------------+------------------+--------------------+\n",
      "|      date| population|total_cases|new_cases|total_deaths|        death_rate|       infected_rate|\n",
      "+----------+-----------+-----------+---------+------------+------------------+--------------------+\n",
      "|2020-03-03|4.6754783E7|      165.0|     45.0|         1.0|0.6060606060606061|9.624683746259715E-5|\n",
      "|2020-03-04|4.6754783E7|      222.0|     57.0|         2.0|0.9009009009009009|1.219126607859563...|\n",
      "|2020-03-05|4.6754783E7|      259.0|     37.0|         3.0|1.1583011583011582|7.913628858035766E-5|\n",
      "|2020-03-06|4.6754783E7|      400.0|    141.0|         5.0|              1.25| 3.01573424049471E-4|\n",
      "|2020-03-07|4.6754783E7|      500.0|    100.0|        10.0|               2.0|2.138818610279936...|\n",
      "|2020-03-08|4.6754783E7|      673.0|    173.0|        17.0| 2.526002971768202| 3.70015619578429E-4|\n",
      "|2020-03-09|4.6754783E7|     1073.0|    400.0|        28.0|  2.60950605778192|8.555274441119745E-4|\n",
      "|2020-03-10|4.6754783E7|     1695.0|    622.0|        35.0|2.0648967551622417|0.001330345175594...|\n",
      "|2020-03-11|4.6754783E7|     2277.0|    582.0|        54.0| 2.371541501976284|0.001244792431182...|\n",
      "|2020-03-12|4.6754783E7|     2277.0|      0.0|        55.0|2.4154589371980677|                 0.0|\n",
      "|2020-03-13|4.6754783E7|     5232.0|   2955.0|       133.0|2.5420489296636086|0.006320208993377212|\n",
      "|2020-03-14|4.6754783E7|     6391.0|   1159.0|       195.0|3.0511657017681113|0.002478890769314...|\n",
      "|2020-03-15|4.6754783E7|     7798.0|   1407.0|       289.0|3.7060784816619647|0.003009317784663871|\n",
      "|2020-03-16|4.6754783E7|     9942.0|   2144.0|       342.0|3.4399517199758605|0.004585627100440184|\n",
      "|2020-03-17|4.6754783E7|    11748.0|   1806.0|       533.0| 4.536942458290773|0.003862706410165565|\n",
      "|2020-03-18|4.6754783E7|    13910.0|   2162.0|       623.0| 4.478792235801582|0.004624125835425223|\n",
      "|2020-03-19|4.6754783E7|    17963.0|   4053.0|       830.0| 4.620609029672104|0.008668631827464583|\n",
      "|2020-03-20|4.6754783E7|    20410.0|   2447.0|      1043.0| 5.110240078392945|0.005233689139355005|\n",
      "|2020-03-21|4.6754783E7|    25374.0|   4964.0|      1375.0| 5.418932765823284|0.010617095581429604|\n",
      "|2020-03-22|4.6754783E7|    28768.0|   3394.0|      1772.0| 6.159621802002225|0.007259150363290104|\n",
      "+----------+-----------+-----------+---------+------------+------------------+--------------------+\n",
      "only showing top 20 rows\n",
      "\n"
     ]
    }
   ],
   "source": [
    "df_spain.show()"
   ]
  },
  {
   "cell_type": "code",
   "execution_count": null,
   "id": "137e77c4",
   "metadata": {},
   "outputs": [],
   "source": [
    "# spark.sql(\"\"\"\n",
    "#     SELECT MONTH(date) AS month, YEAR(date) AS year,\n",
    "#         MAX(population) as population,\n",
    "#         sum(total_cases) as total_cases, \n",
    "#         sum(new_cases) as new_cases, \n",
    "#         sum(total_deaths) as total_deaths,\n",
    "#         (sum(total_deaths)/sum(total_cases)*100) as death_rate,\n",
    "#         (sum(total_cases)/MAX(population)*100) as infected_rate\n",
    "#     FROM covid_deaths_spain\n",
    "#     GROUP BY month, year\n",
    "#     ORDER by year, month\n",
    "# \"\"\").show()"
   ]
  },
  {
   "cell_type": "code",
   "execution_count": null,
   "id": "b64aa2c9",
   "metadata": {},
   "outputs": [],
   "source": []
  }
 ],
 "metadata": {
  "kernelspec": {
   "display_name": "Python 3",
   "language": "python",
   "name": "python3"
  },
  "language_info": {
   "codemirror_mode": {
    "name": "ipython",
    "version": 3
   },
   "file_extension": ".py",
   "mimetype": "text/x-python",
   "name": "python",
   "nbconvert_exporter": "python",
   "pygments_lexer": "ipython3",
   "version": "3.8.0"
  }
 },
 "nbformat": 4,
 "nbformat_minor": 5
}
