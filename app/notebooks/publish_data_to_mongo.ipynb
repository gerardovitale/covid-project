{
 "cells": [
  {
   "cell_type": "code",
   "execution_count": 1,
   "id": "32123068",
   "metadata": {},
   "outputs": [],
   "source": [
    "import findspark\n",
    "findspark.init('/usr/local/spark-3.1.2-bin-hadoop3.2')\n",
    "\n",
    "import pymongo\n",
    "import pymongo_spark\n",
    "pymongo_spark.activate()\n",
    "\n",
    "from pyspark.sql import SparkSession\n",
    "from pyspark.sql.functions import col, unix_timestamp, to_date"
   ]
  },
  {
   "cell_type": "code",
   "execution_count": 2,
   "id": "d7297e2d",
   "metadata": {},
   "outputs": [],
   "source": [
    "# spark.mongodb.input.uri=mongodb://127.0.0.1/databaseName.collectionName\n",
    "## PySpark connector model\n",
    "# spark = SparkSession.builder.appName(\"Spark Benchmarking\") \\\n",
    "#                 .config(\"spark.mongodb.input.uri\", mongodb_uri)\\\n",
    "#                 .config(\"spark.mongodb.output.uri\", mongodb_uri)\\\n",
    "#                 .config(\"spark.jars.packages\",\n",
    "#                         \"org.mongodb.spark:mongo-spark-connector_2.12:3.0.1\",)\\\n",
    "#                 .getOrCreate()"
   ]
  },
  {
   "cell_type": "code",
   "execution_count": 3,
   "id": "24bfa2a8",
   "metadata": {},
   "outputs": [
    {
     "name": "stdout",
     "output_type": "stream",
     "text": [
      ":: loading settings :: url = jar:file:/usr/local/spark-3.1.2-bin-hadoop3.2/jars/ivy-2.4.0.jar!/org/apache/ivy/core/settings/ivysettings.xml\n"
     ]
    },
    {
     "name": "stderr",
     "output_type": "stream",
     "text": [
      "Ivy Default Cache set to: /root/.ivy2/cache\n",
      "The jars for the packages stored in: /root/.ivy2/jars\n",
      "org.mongodb.spark#mongo-spark-connector_2.12 added as a dependency\n",
      ":: resolving dependencies :: org.apache.spark#spark-submit-parent-793fe352-ec09-4339-b416-c13be9f3b645;1.0\n",
      "\tconfs: [default]\n",
      "\tfound org.mongodb.spark#mongo-spark-connector_2.12;3.0.1 in central\n",
      "\tfound org.mongodb#mongodb-driver-sync;4.0.5 in central\n",
      "\tfound org.mongodb#bson;4.0.5 in central\n",
      "\tfound org.mongodb#mongodb-driver-core;4.0.5 in central\n",
      ":: resolution report :: resolve 350ms :: artifacts dl 9ms\n",
      "\t:: modules in use:\n",
      "\torg.mongodb#bson;4.0.5 from central in [default]\n",
      "\torg.mongodb#mongodb-driver-core;4.0.5 from central in [default]\n",
      "\torg.mongodb#mongodb-driver-sync;4.0.5 from central in [default]\n",
      "\torg.mongodb.spark#mongo-spark-connector_2.12;3.0.1 from central in [default]\n",
      "\t---------------------------------------------------------------------\n",
      "\t|                  |            modules            ||   artifacts   |\n",
      "\t|       conf       | number| search|dwnlded|evicted|| number|dwnlded|\n",
      "\t---------------------------------------------------------------------\n",
      "\t|      default     |   4   |   0   |   0   |   0   ||   4   |   0   |\n",
      "\t---------------------------------------------------------------------\n",
      ":: retrieving :: org.apache.spark#spark-submit-parent-793fe352-ec09-4339-b416-c13be9f3b645\n",
      "\tconfs: [default]\n",
      "\t0 artifacts copied, 4 already retrieved (0kB/8ms)\n",
      "21/07/11 16:58:22 WARN NativeCodeLoader: Unable to load native-hadoop library for your platform... using builtin-java classes where applicable\n",
      "Using Spark's default log4j profile: org/apache/spark/log4j-defaults.properties\n",
      "Setting default log level to \"WARN\".\n",
      "To adjust logging level use sc.setLogLevel(newLevel). For SparkR, use setLogLevel(newLevel).\n"
     ]
    }
   ],
   "source": [
    "mongodb_uri = \"mongodb://mongo_db:27017/covid-project.covid_deaths\"\n",
    "spark = SparkSession.builder.appName(\"Spark Benchmarking\") \\\n",
    "                .config(\"spark.mongodb.output.uri\", mongodb_uri)\\\n",
    "                .config(\"spark.jars.packages\",\n",
    "                        \"org.mongodb.spark:mongo-spark-connector_2.12:3.0.1\",)\\\n",
    "                .getOrCreate()"
   ]
  },
  {
   "cell_type": "code",
   "execution_count": 4,
   "id": "727aed0e",
   "metadata": {
    "scrolled": false
   },
   "outputs": [
    {
     "name": "stderr",
     "output_type": "stream",
     "text": [
      "21/07/11 16:58:33 WARN package: Truncated the string representation of a plan since it was too large. This behavior can be adjusted by setting 'spark.sql.debug.maxToStringFields'.\n",
      "                                                                                \r"
     ]
    }
   ],
   "source": [
    "covid_deaths = spark.read.parquet('../data/covid_deaths.parquet')\n",
    "covid_deaths.write.format('mongo').mode('append')\\\n",
    "                                    .option('database', 'covid-project')\\\n",
    "                                    .option('collection', 'covid_deaths')\\\n",
    "                                    .save()"
   ]
  },
  {
   "cell_type": "code",
   "execution_count": 5,
   "id": "684dcdf8",
   "metadata": {},
   "outputs": [
    {
     "name": "stderr",
     "output_type": "stream",
     "text": [
      "                                                                                \r"
     ]
    }
   ],
   "source": [
    "covid_vaccinations = spark.read.parquet('../data/covid_vaccinations.parquet')\n",
    "covid_vaccinations.write.format('mongo').mode('append')\\\n",
    "                                        .option('database', 'covid-project')\\\n",
    "                                        .option('collection', 'covid_vaccinations')\\\n",
    "                                        .save()"
   ]
  }
 ],
 "metadata": {
  "kernelspec": {
   "display_name": "Python 3 (ipykernel)",
   "language": "python",
   "name": "python3"
  },
  "language_info": {
   "codemirror_mode": {
    "name": "ipython",
    "version": 3
   },
   "file_extension": ".py",
   "mimetype": "text/x-python",
   "name": "python",
   "nbconvert_exporter": "python",
   "pygments_lexer": "ipython3",
   "version": "3.9.5"
  }
 },
 "nbformat": 4,
 "nbformat_minor": 5
}
